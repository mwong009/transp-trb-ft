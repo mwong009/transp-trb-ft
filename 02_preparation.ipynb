{
 "cells": [
  {
   "cell_type": "markdown",
   "metadata": {},
   "source": [
    "## Transportation Forecasting\n",
    "For TRBAM 2019 TRANSFOR19 Forecasting competition\n",
    "\n",
    "### This is Part 2 of 3 part series:\n",
    "\n",
    "Use the following to navigate\n",
    "\n",
    "- [Part 1: data processing](01_processing.ipynb)\n",
    "- [Part 2: data preparation](02_preparation.ipynb)\n",
    "- [Part 3: model training](03_training.ipynb)\n",
    "\n",
    "-----"
   ]
  },
  {
   "cell_type": "markdown",
   "metadata": {},
   "source": [
    "### 5. Preparing Train, Validation and Test datasets\n",
    "\n",
    "- to run our machine learning model, we create 3 exclusive datasets: train, valid and test"
   ]
  },
  {
   "cell_type": "code",
   "execution_count": 1,
   "metadata": {},
   "outputs": [],
   "source": [
    "# read from csv file\n",
    "\n",
    "import pandas as pd\n",
    "import pytz\n",
    "\n",
    "datatable = pd.read_csv('datatable_full.csv', index_col=0)\n",
    "speedtable = pd.read_csv('speedtable_full.csv', index_col=0)\n",
    "predictions = pd.read_csv('Predictions.csv', index_col=0)\n",
    "\n",
    "predictions.index = pd.to_datetime(predictions.index).tz_localize('UTC').tz_convert(pytz.timezone('Asia/Shanghai'))\n",
    "datatable.index = pd.to_datetime(datatable.index).tz_localize('UTC').tz_convert(pytz.timezone('Asia/Shanghai'))\n",
    "speedtable.index = pd.to_datetime(speedtable.index).tz_localize('UTC').tz_convert(pytz.timezone('Asia/Shanghai'))"
   ]
  },
  {
   "cell_type": "code",
   "execution_count": 2,
   "metadata": {},
   "outputs": [
    {
     "name": "stdout",
     "output_type": "stream",
     "text": [
      "(13032, 2)\n"
     ]
    }
   ],
   "source": [
    "train_y = speedtable.loc[\n",
    "    ~speedtable.index.hour.isin([0, 1, 2, 3, 4, 5]) &\n",
    "    ~(speedtable.index.month_name().isin(['December']) &\n",
    "        speedtable.index.hour.isin([6, 7, 8, 9, 10, 16, 17, 18, 19, 20])) &\n",
    "    ~(speedtable.index.month_name().isin(['November']) & \n",
    "      speedtable.index.day_name().isin(['Thursday']) &\n",
    "      speedtable.index.hour.isin([6, 7, 8, 9, 10, 16, 17, 18, 19, 20]) &\n",
    "      (speedtable.index.week > 45))\n",
    "]\n",
    "\n",
    "train_y.to_csv('train_y.csv')\n",
    "print(train_y.shape)"
   ]
  },
  {
   "cell_type": "code",
   "execution_count": 3,
   "metadata": {},
   "outputs": [
    {
     "name": "stdout",
     "output_type": "stream",
     "text": [
      "(13032, 1024)\n"
     ]
    }
   ],
   "source": [
    "train_x = datatable.loc[\n",
    "    ~datatable.index.hour.isin([0, 1, 2, 3, 4, 5]) &\n",
    "    ~(datatable.index.month_name().isin(['December']) &\n",
    "        datatable.index.hour.isin([6, 7, 8, 9, 10, 16, 17, 18, 19, 20])) &\n",
    "    ~(datatable.index.month_name().isin(['November']) & \n",
    "      datatable.index.day_name().isin(['Thursday']) &\n",
    "      datatable.index.hour.isin([6, 7, 8, 9, 10, 16, 17, 18, 19, 20]) &\n",
    "      (datatable.index.week > 45))\n",
    "]\n",
    "\n",
    "train_x = ((train_x - datatable.mean(axis=0))/datatable.std(axis=0)).fillna(0.)\n",
    "train_x.to_csv('train_x.csv')\n",
    "print(train_x.shape)"
   ]
  },
  {
   "cell_type": "code",
   "execution_count": 4,
   "metadata": {},
   "outputs": [
    {
     "name": "stdout",
     "output_type": "stream",
     "text": [
      "(120, 2)\n"
     ]
    }
   ],
   "source": [
    "valid_y = speedtable.loc[\n",
    "    speedtable.index.hour.isin([6, 7, 8, 9, 10, 16, 17, 18, 19, 20]) &\n",
    "    speedtable.index.day_name().isin(['Thursday']) &\n",
    "    speedtable.index.month_name().isin(['November']) &\n",
    "    (speedtable.index.week > 46)\n",
    "]\n",
    "valid_y.to_csv('valid_y.csv')\n",
    "print(valid_y.shape)"
   ]
  },
  {
   "cell_type": "code",
   "execution_count": 5,
   "metadata": {},
   "outputs": [
    {
     "name": "stdout",
     "output_type": "stream",
     "text": [
      "(120, 1024)\n"
     ]
    }
   ],
   "source": [
    "valid_x = datatable.loc[\n",
    "    datatable.index.hour.isin([6, 7, 8, 9, 10, 16, 17, 18, 19, 20]) &\n",
    "    datatable.index.day_name().isin(['Thursday']) &\n",
    "    datatable.index.month_name().isin(['November']) &\n",
    "    (speedtable.index.week > 46)\n",
    "]\n",
    "valid_x = ((valid_x - datatable.mean(axis=0))/datatable.std(axis=0)).fillna(0.)\n",
    "valid_x.to_csv('valid_x.csv')\n",
    "print(valid_x.shape)"
   ]
  },
  {
   "cell_type": "code",
   "execution_count": 6,
   "metadata": {},
   "outputs": [
    {
     "name": "stdout",
     "output_type": "stream",
     "text": [
      "(216, 2)\n"
     ]
    }
   ],
   "source": [
    "test_y = predictions.loc['2016-12-01 06:00:00+08:00':].fillna(0.)\n",
    "test_y.to_csv('test_y.csv')\n",
    "print(test_y.shape)"
   ]
  },
  {
   "cell_type": "code",
   "execution_count": 7,
   "metadata": {},
   "outputs": [
    {
     "name": "stdout",
     "output_type": "stream",
     "text": [
      "(216, 1024)\n"
     ]
    }
   ],
   "source": [
    "test_x = datatable.loc[\n",
    "    (datatable.index.hour >= 6) &\n",
    "    datatable.index.month_name().isin(['December'])\n",
    "]\n",
    "test_x = ((test_x - datatable.mean(axis=0))/datatable.std(axis=0)).fillna(0.)\n",
    "test_x.to_csv('test_x.csv')\n",
    "print(test_x.shape)"
   ]
  },
  {
   "cell_type": "markdown",
   "metadata": {},
   "source": [
    "[Continue](03_training.ipynb) to next step for model training"
   ]
  }
 ],
 "metadata": {
  "kernelspec": {
   "display_name": "Python 3",
   "language": "python",
   "name": "python3"
  },
  "language_info": {
   "codemirror_mode": {
    "name": "ipython",
    "version": 3
   },
   "file_extension": ".py",
   "mimetype": "text/x-python",
   "name": "python",
   "nbconvert_exporter": "python",
   "pygments_lexer": "ipython3",
   "version": "3.6.7"
  }
 },
 "nbformat": 4,
 "nbformat_minor": 2
}
